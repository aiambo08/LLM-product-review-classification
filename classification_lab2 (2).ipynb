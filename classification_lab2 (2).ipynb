{
  "nbformat": 4,
  "nbformat_minor": 0,
  "metadata": {
    "colab": {
      "provenance": []
    },
    "kernelspec": {
      "name": "python3",
      "display_name": "Python 3"
    },
    "language_info": {
      "name": "python"
    }
  },
  "cells": [
    {
      "cell_type": "markdown",
      "source": [
        "# Ajuste de los parámetros del modelo IBM Granite para perfeccionar el resultado"
      ],
      "metadata": {
        "id": "xKVp5KaRT_Ka"
      }
    },
    {
      "cell_type": "markdown",
      "source": [
        "Este proyecto utiliza un modelo de lenguaje de IBM Granite a través de la API de Replicate para analizar reseñas de productos.\n"
      ],
      "metadata": {
        "id": "_FoXYQc5EzK6"
      }
    },
    {
      "cell_type": "markdown",
      "source": [
        "## Objetivos"
      ],
      "metadata": {
        "id": "2TebsJnbE9vx"
      }
    },
    {
      "cell_type": "markdown",
      "source": [
        "- Investigar cómo los distintos parámetros de generación (como top_k, top_p, max_tokens, etc.) afectan la calidad y precisión de las respuestas generadas por el modelo Granite.\n",
        "\n",
        "- Evaluar la coherencia, creatividad o precisión de las salidas según diferentes configuraciones.\n",
        "\n",
        "- Encontrar una combinación óptima de parámetros que se alinee mejor con el tipo de tarea (resumen, clasificación, extracción...).\n",
        "\n",
        "- Aplicar principios de prompt engineering junto con ajustes de modelo para lograr resultados más controlados."
      ],
      "metadata": {
        "id": "eyLjfoElFDX8"
      }
    },
    {
      "cell_type": "markdown",
      "source": [
        "## Recursos necesarios:"
      ],
      "metadata": {
        "id": "twXM8sJDFQTz"
      }
    },
    {
      "cell_type": "code",
      "execution_count": null,
      "metadata": {
        "id": "MWjL_l5hT3Z7"
      },
      "outputs": [],
      "source": [
        "!pip install langchain_community\n",
        "!pip install replicate\n"
      ]
    },
    {
      "cell_type": "markdown",
      "source": [
        "## Clasificación de datos"
      ],
      "metadata": {
        "id": "lstV06rQT8ot"
      }
    },
    {
      "cell_type": "code",
      "source": [
        "from langchain_community.llms import Replicate\n",
        "import os\n",
        "from google.colab import userdata\n",
        "\n",
        "# Establecer el token de API\n",
        "api_token = userdata.get('api_token')\n",
        "os.environ[\"REPLICATE_API_TOKEN\"] = api_token\n",
        "\n",
        "# Configuración del modelo\n",
        "model = \"ibm-granite/granite-3.3-8b-instruct\"\n",
        "\n",
        "output = Replicate(\n",
        "    model = model,\n",
        "    replicate_api_token = api_token,\n",
        ")\n",
        "\n",
        "# Definir las reviews de los customers\n",
        "customer_reviews = [\n",
        "    \"The battery lasts all day, bnut the phone gets hot during gaming.\",\n",
        "    \"The screen is too dim outdoors, but I love the colors indoors.\",\n",
        "    \"This phone is fast, but it keeps crashing when I open certain apps.\"\n",
        "\n",
        "]\n",
        "\n",
        "# Refinar la solicitud para incluir reseñas\n",
        "reviews_text = \"\\n\".join([f'Review {i+1}: {review}' for i, review in enumerate (customer_reviews)])\n",
        "\n",
        "# Set model parameters for prompting with default values\n",
        "parameters = {\n",
        "    \"top_k\": 1,\n",
        "    \"top_p\": 0.5,\n",
        "    \"max_tokens\": 3,\n",
        "    \"min_tokens\": 1,\n",
        "    \"random_seed\": None,\n",
        "    \"repetition_penalty\": 1.5,\n",
        "    \"stopping_criteria\": \"length\",\n",
        "    \"stopping_sequence\": \" \"\n",
        "}\n",
        "\n",
        "# Add initial prompt\n",
        "refined_prompt = f\"\"\"\n",
        "Classify these reviews as positive, negative, or mixed, and\n",
        "tag relevant focus areas such as battery life, screen queality,\n",
        "or performance\n",
        "\n",
        "{reviews_text}\n",
        "\"\"\"\n",
        "\n",
        "# Invoke the model\n",
        "response = output.invoke(refined_prompt, parameters=parameters)\n",
        "\n",
        "# Print the response\n",
        "print(\"Granite Model Refined Response:\\n\")\n",
        "\n",
        "print(response)"
      ],
      "metadata": {
        "colab": {
          "base_uri": "https://localhost:8080/"
        },
        "id": "hDIYclA7UGP0",
        "outputId": "5538907c-55af-48a8-861c-8f862123262a"
      },
      "execution_count": null,
      "outputs": [
        {
          "output_type": "stream",
          "name": "stdout",
          "text": [
            "Granite Model Refined Response:\n",
            "\n",
            "1. Review 1: Negative (Battery life - Positive, Performance/Temperature - Negative)\n",
            "The user expresses satisfaction with the battery life lasting all day, but also mentions a problem with the phone overheating during gaming, indicating a negative aspect related to performance under stress.\n",
            "\n",
            "2. Review 2: Mixed (Screen Quality - Mixed)\n",
            "This review is mixed. The user appreciates the color accuracy of the screen indoors but finds it too dim outdoors, highlighting issues with screen quality under different lighting conditions.\n",
            "\n",
            "3. Review 3: Negative (Performance - Negative)\n",
            "This review is negative as the user points out that despite the phone being fast, it crashes when opening certain apps, indicating a significant performance issue.\n"
          ]
        }
      ]
    },
    {
      "cell_type": "markdown",
      "source": [
        "## Resumen de datos"
      ],
      "metadata": {
        "id": "o5N6XwX3Xwlw"
      }
    },
    {
      "cell_type": "code",
      "source": [
        "# Define the customer reviews\n",
        "customer_meetings = [\n",
        "    \"\"\"\n",
        "    La reunión comenzó con una discusión sobre el presupuesto de\n",
        "    marketing del tercer trimestre. Se decidió que el 40 % del\n",
        "    presupuesto se destinará a anuncios digitales, el 30 % a\n",
        "    eventos y el 30 % a campañas en redes sociales. El equipo\n",
        "    enfatizó la necesidad de concretar asociaciones con influencers\n",
        "    para aumentar la visibilidad de la marca y el marketing por\n",
        "    correo electrónico para impulsar la interacción directa. El\n",
        "    próximo mes se lanzará un programa piloto para probar nuevos\n",
        "    formatos de anuncios y el equipo revisará los resultados a\n",
        "    finales del tercer trimestre.\n",
        "    Posteriormente, el equipo discutió las métricas de rendimiento\n",
        "    de la campaña. El seguimiento del ROI será una máxima prioridad\n",
        "    y se realizarán ajustes en función de los datos de rendimiento.\n",
        "    El equipo de eventos planteó inquietudes sobre la asignación de\n",
        "    recursos para las próximas ferias comerciales y se acordó que\n",
        "    se reasignarían $10,000 adicionales para cubrir estos gastos.\n",
        "    Por último, el equipo revisó nuevos conceptos creativos para la\n",
        "    próxima campaña y decidió continuar con el Concepto B, que tuvo\n",
        "    mejores resultados entre los grupos focales. Se ultimaron los\n",
        "    plazos para la entrega de los activos de campaña: todos los\n",
        "    entregables deben presentarse a más tardar el 15 de julio.\n",
        "    \"\"\"\n",
        "]\n",
        "\n",
        "# Refine the prompt to include reviews\n",
        "reviews_text = \"\\n\".join([f\"Review {i+1}:{review}\" for i, review in enumerate(customer_meetings)])\n",
        "\n",
        "# Apply default values for the parameters\n",
        "parameters = {\n",
        "    \"top_k\": 10,\n",
        "    \"top_p\": 0.9,\n",
        "    \"max_tokens\": 20,\n",
        "    \"min_tokens\": 0,\n",
        "    \"random_seed\": None,\n",
        "    \"repetition_penalty\": 1.5,\n",
        "    \"stopping_criteria\": \"length\",\n",
        "    \"stopping_sequence\": \" \"\n",
        "}\n",
        "\n",
        "# Define the prompt with refined focus area prompt\n",
        "refined_focusarea_prompt = f\"\"\"\n",
        "Summarize this meeting by focusing on key points, decisions, and action times\n",
        "\n",
        "{reviews_text}\n",
        "\"\"\"\n",
        "\n",
        "# Define the output\n",
        "response = output.invoke(refined_focusarea_prompt, parameters=parameters)\n",
        "\n",
        "# Print the response\n",
        "print(\"Granite Model Response for refined focus area response:\\n\")\n",
        "print(response)"
      ],
      "metadata": {
        "colab": {
          "base_uri": "https://localhost:8080/"
        },
        "id": "riDTOSR2Xx5C",
        "outputId": "41375223-9c1c-4a1a-cc00-c66534281bd7"
      },
      "execution_count": null,
      "outputs": [
        {
          "output_type": "stream",
          "name": "stdout",
          "text": [
            "Granite Model Response for refined focus area response:\n",
            "\n",
            "**Meeting Summary:**\n",
            "\n",
            "1. **Marketing Budget Allocation (Q3):**\n",
            "   - 40% allocated to digital ads\n",
            "   - 30% to events\n",
            "   - 30% to social media campaigns\n",
            "   - Focus on influencer partnerships and email marketing to boost brand visibility and direct engagement.\n",
            "\n",
            "2. **Pilot Program for New Ad Formats:**\n",
            "   - Launch pilot program next month\n",
            "   - Review results by end of Q3\n",
            "\n",
            "3. **Performance Metrics & ROI:**\n",
            "   - Prioritize tracking Return on Investment (ROI)\n",
            "   - Make adjustments based on performance data\n",
            "\n",
            "4. **Event Resource Allocation:**\n",
            "   - Additional $10,000 reallocated to cover upcoming trade shows, addressing team's concerns\n",
            "\n",
            "5. **Creative Concepts for Next Campaign:**\n",
            "   - Selected Concept B over other options due to better focus group results\n",
            "   - Final deadlines set: All campaign assets to be submitted by July 15\n",
            "\n",
            "**Next Review:** Performance data and pilot program results review at the end of Q3.\n"
          ]
        }
      ]
    },
    {
      "cell_type": "markdown",
      "source": [
        "## Conclusión\n",
        "Este experimento demuestra que los parámetros de generación en modelos fundacionales como IBM Granite tienen un impacto directo en la calidad del output. Ajustar adecuadamente valores como max_tokens y top_p permite:\n",
        "\n",
        "- Lograr un equilibrio entre diversidad y precisión de las respuestas.\n",
        "\n",
        "- Adaptar el modelo a tareas más estructuradas (resúmenes, clasificación) o creativas (generación libre).\n",
        "\n",
        "- Personalizar el comportamiento del modelo sin necesidad de reentrenamiento.\n",
        "\n",
        "Este tipo de afinamiento es esencial para integrar LLMs de manera eficiente en aplicaciones empresariales o asistencias inteligentes."
      ],
      "metadata": {
        "id": "yAO09VmBbgOi"
      }
    }
  ]
}