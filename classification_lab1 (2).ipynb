{
  "nbformat": 4,
  "nbformat_minor": 0,
  "metadata": {
    "colab": {
      "provenance": []
    },
    "kernelspec": {
      "name": "python3",
      "display_name": "Python 3"
    },
    "language_info": {
      "name": "python"
    }
  },
  "cells": [
    {
      "cell_type": "markdown",
      "source": [
        "# Clasificación y resumen de datos usando IBM Granite"
      ],
      "metadata": {
        "id": "vbb59D5yCu5D"
      }
    },
    {
      "cell_type": "markdown",
      "source": [
        "Este proyecto utiliza un modelo de lenguaje de IBM Granite a través de la API de Replicate para analizar reseñas de productos.\n",
        "\n",
        "## Objetivos:\n",
        "- Clasificar reseñas como positivas, negativas o mixtas.\n",
        "- Identificar aspectos clave (pantalla, batería, rendimiento...).\n",
        "- Generar una explicación automática de la clasificación.\n",
        "\n",
        "Este notebook fue desarrollado como parte del programa IBM SkillsBuild."
      ],
      "metadata": {
        "id": "ziavPLDmC4zE"
      }
    },
    {
      "cell_type": "markdown",
      "source": [
        "## Paquetes necesarios:"
      ],
      "metadata": {
        "id": "JmTOTwyoDhQq"
      }
    },
    {
      "cell_type": "code",
      "source": [
        "!pip install langchain_community\n",
        "!pip install replicate"
      ],
      "metadata": {
        "id": "p32QmGQFDlLZ"
      },
      "execution_count": null,
      "outputs": []
    },
    {
      "cell_type": "markdown",
      "source": [
        "## Clasificación de datos"
      ],
      "metadata": {
        "id": "T_BaaP1QSDiK"
      }
    },
    {
      "cell_type": "code",
      "source": [
        "from langchain_community.llms import Replicate\n",
        "import os\n",
        "from google.colab import userdata\n",
        "\n",
        "# Establecer el token de API\n",
        "api_token = userdata.get('api_token')\n",
        "os.environ[\"REPLICATE_API_TOKEN\"] = api_token\n",
        "\n",
        "# Configuración del modelo\n",
        "model = \"ibm-granite/granite-3.3-8b-instruct\"\n",
        "\n",
        "output = Replicate(\n",
        "    model = model,\n",
        "    replicate_api_token = api_token,\n",
        ")\n",
        "\n",
        "# Definir las reviews de los customers\n",
        "customer_reviews = [\n",
        "    \"The battery lasts all day, bnut the phone gets hot during gaming.\",\n",
        "    \"The screen is too dim outdoors, but I love the colors indoors.\",\n",
        "    \"This phone is fast, but it keeps crashing when I open certain apps.\"\n",
        "\n",
        "]\n",
        "\n",
        "# Refinar la solicitud para incluir reseñas\n",
        "reviews_text = \"\\n\".join([f'Review {i+1}: {review}' for i, review in enumerate (customer_reviews)])\n",
        "\n",
        "#prompt = f\"\"\"\n",
        "#Classify these reviewa as positive, negative or mixed, and tag relevant categories (battery life, screen quality or performance):\n",
        "\n",
        "#{reviews_text}\n",
        "#\"\"\"\n",
        "\n",
        "#multitask_prompt = f\"\"\"\n",
        "#Complete the task in 2 steps.\n",
        "\n",
        "#Step 1: Classify these reviews as positive, negative or mixed.\n",
        "#Step 2: For each review, identify relevant categories: battery life, screen quality or performance,\n",
        "\n",
        "formatted_prompt = f\"\"\"\n",
        "Classify these reviews as Positive, Negative or Mixed, and tag relevant categories. Use this format:\n",
        "\n",
        "- Sentiment: [Sentiment]\n",
        "- Categories: [Categories]\n",
        "\n",
        "{reviews_text}\n",
        "\"\"\"\n",
        "\n",
        "# Invocar el modelo con la solicitud de ejemplo\n",
        "response = output.invoke(formatted_prompt)\n",
        "\n",
        "# Imprimir la respuesta\n",
        "print(\"Granite Model Response:\\n\")\n",
        "print(response)"
      ],
      "metadata": {
        "colab": {
          "base_uri": "https://localhost:8080/"
        },
        "id": "Wu70q6HnGUY5",
        "outputId": "33f6b501-f377-44c9-8c59-d5d631b9c21b"
      },
      "execution_count": 3,
      "outputs": [
        {
          "output_type": "stream",
          "name": "stdout",
          "text": [
            "Granite Model Response:\n",
            "\n",
            "- Sentiment: Mixed\n",
            "  - Categories: Battery life, Heat generation, Display quality\n",
            "\n",
            "- Sentiment: Mixed\n",
            "  - Categories: Display quality (outdoor visibility), Indoor display quality\n",
            "\n",
            "- Sentiment: Negative\n",
            "  - Categories: Performance stability, App compatibility\n"
          ]
        }
      ]
    },
    {
      "cell_type": "markdown",
      "source": [
        "## Resumen de datos"
      ],
      "metadata": {
        "id": "vLgogOvlR9pq"
      }
    },
    {
      "cell_type": "code",
      "metadata": {
        "id": "4b663386",
        "colab": {
          "base_uri": "https://localhost:8080/"
        },
        "outputId": "bbc5430a-cdad-40b5-813e-558bddf138c1"
      },
      "source": [
        "from langchain_community.llms import Replicate\n",
        "import os\n",
        "from google.colab import userdata\n",
        "\n",
        "# Establecer el token de API\n",
        "api_token = userdata.get('api_token')\n",
        "os.environ[\"REPLICATE_API_TOKEN\"] = api_token\n",
        "\n",
        "# Configuración del modelo\n",
        "model = \"ibm-granite/granite-3.3-8b-instruct\"\n",
        "\n",
        "output = Replicate(\n",
        "    model = model,\n",
        "    replicate_api_token = api_token,\n",
        ")\n",
        "\n",
        "# Definir las reviews de los customers\n",
        "customer_meetings = [\n",
        "\"\"\"\n",
        "La reunión comenzó con una discusión sobre el presupuesto de\n",
        "marketing del tercer trimestre. Se decidió que el 40 % del\n",
        "presupuesto se destinará a anuncios digitales, el 30 % a eventos y\n",
        "el 30 % a campañas en redes sociales. El equipo enfatizó la\n",
        "necesidad de concretar asociaciones con influencers para aumentar\n",
        "la visibilidad de la marca y el marketing por correo electrónico\n",
        "para impulsar la interacción directa. El próximo mes se lanzará un\n",
        "programa piloto para probar nuevos formatos de anuncios y el\n",
        "equipo revisará los resultados a finales del tercer trimestre.\n",
        "Posteriormente, el equipo discutió las métricas de rendimiento de\n",
        "la campaña. El seguimiento del ROI será una máxima prioridad y se\n",
        "realizarán ajustes en función de los datos de rendimiento.\n",
        "El equipo de eventos planteó inquietudes sobre la asignación de\n",
        "recursos para las próximas ferias comerciales y se acordó que se\n",
        "reasignarían $10.000 adicionales para cubrir estos gastos.\n",
        "Por último, el equipo revisó nuevos conceptos creativos para la\n",
        "próxima campaña y decidió continuar con el Concepto 8, que tuvo\n",
        "mejores resultados entre los focus groups. Se ultimaron los plazos\n",
        "para la entrega de los activos de campaña: todos los entregables\n",
        "deben presentarse a más tardar el 15 de julio.\n",
        "\"\"\"\n",
        "]\n",
        "\n",
        "# Refine the prompt to include reviews\n",
        "reviews_text = \"\\n\".join([f\"Review {i+1}: {review}\" for i, review in enumerate (customer_meetings)])\n",
        "\n",
        "# prompt = f\"\"\"\n",
        "# Resume esta reunión:\n",
        "\n",
        "# refined_prompt = f\"\"\"\n",
        "# Resume esta reunión en tres frases:\n",
        "\n",
        "# refined_focusarea_prompt = f\"\"\"\n",
        "# Resume esta reunión centrándote en los puntos clave, las decisiones tomadas y las acciones pendiente:\n",
        "\n",
        "refined_outputformat_prompt = f\"\"\"\n",
        "Resume esta reunión en un formato estructurado, utilizando los siguientes títulos: Puntos clave discutidos, Decisiones tomadas y Acciones pendientes.\n",
        "Menciona los cronogramas.\n",
        "Incluye solo dos viñetas concisas para cada título.\n",
        "\n",
        "{reviews_text}\n",
        "\"\"\"\n",
        "\n",
        "# Invocar el modelo con la solicitud de ejemplo\n",
        "respuesta = output.invoke(refined_outputformat_prompt)\n",
        "\n",
        "# Imprimir la respuesta\n",
        "print(\"Granite Model Response:\\n\")\n",
        "\n",
        "print(respuesta)"
      ],
      "execution_count": null,
      "outputs": [
        {
          "output_type": "stream",
          "name": "stdout",
          "text": [
            "Granite Model Response:\n",
            "\n",
            "**Puntos clave discutidos:**\n",
            "\n",
            "- Asignación del presupuesto de marketing para el TQ3: 40% a anuncios digitales, 30% a eventos y 30% a campañas en redes sociales.\n",
            "- Priorizar asociaciones con influencers y marketing por correo electrónico para aumentar la interacción directa.\n",
            "\n",
            "**Decisiones tomadas:**\n",
            "\n",
            "- Lanzar un programa piloto para nuevos formatos de anuncios en el próximo mes, con revisión de resultados a finales del TQ3.\n",
            "- Realizar un seguimiento del ROI y ajustar estrategias según los datos de rendimiento.\n",
            "- Asignar $10,000 adicionales para eventos, abordando las preocupaciones del equipo de eventos sobre recursos.\n",
            "- Seleccionar Concepto 8 para la próxima campaña, basado en resultados positivos de los grupos focales.\n",
            "\n",
            "**Acciones pendientes:**\n",
            "\n",
            "- Presentar todos los activos de campaña para el 15 de julio, cumpliendo con el plazo establecido.\n",
            "- Continuar monitoreando el ROI y realizar ajustes estratégicos en función de los datos de rendimiento recopilados.\n"
          ]
        }
      ]
    },
    {
      "cell_type": "markdown",
      "source": [
        "## Conclusiones\n",
        "\n",
        "Este proyecto demuestra cómo se puede usar IBM Granite y LangChain para realizar análisis automatizado de texto en el contexto de reseñas de productos.\n",
        "\n",
        "Es una muestra sólida del potencial de los LLMs en tareas prácticas de clasificación y explicación.\n"
      ],
      "metadata": {
        "id": "ys0r-tr0ELMC"
      }
    }
  ]
}